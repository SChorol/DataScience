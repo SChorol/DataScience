{
 "cells": [
  {
   "cell_type": "markdown",
   "id": "0ec1bb5f",
   "metadata": {},
   "source": [
    "# Data Science Tools and Ecosystem"
   ]
  },
  {
   "cell_type": "markdown",
   "id": "aeeebc33",
   "metadata": {},
   "source": [
    "In this notebook,we will summarize Data Science Tools and Ecosystem."
   ]
  },
  {
   "cell_type": "markdown",
   "id": "8529daaa",
   "metadata": {},
   "source": [
    "**Objectives** :\n",
    "+ Python\n",
    "+ R languages\n",
    "+ Anaconda"
   ]
  },
  {
   "cell_type": "markdown",
   "id": "49921eda",
   "metadata": {},
   "source": [
    "Some of the popular languages that Data Scientists use are :\n",
    "1. Python.\n",
    "2. R \n",
    "3. SQL\n",
    "4. Scala"
   ]
  },
  {
   "cell_type": "markdown",
   "id": "0ea8b109",
   "metadata": {},
   "source": [
    "Some of the commonly used libraries of Data Scientists are :\n",
    "1. NumPy\n",
    "2. pandas\n",
    "3. Apache Spark\n",
    "4. TensorFlow\n",
    "5. plotly\n",
    "3. matplotlib\n"
   ]
  },
  {
   "cell_type": "markdown",
   "id": "36ead8de",
   "metadata": {},
   "source": [
    "Data Science Tools :\n",
    "|Data Science Tools |\n",
    "|-------------------|\n",
    "|R Studio.           |\n",
    "|Anaconda Navigator.  |\n",
    "|Watson studio.       |\n"
   ]
  },
  {
   "cell_type": "markdown",
   "id": "b677b96c",
   "metadata": {},
   "source": [
    "Given below are some of the examples of  arithmetic expressions in python :\n"
   ]
  },
  {
   "cell_type": "code",
   "execution_count": 2,
   "id": "b12fcc81",
   "metadata": {},
   "outputs": [
    {
     "data": {
      "text/plain": [
       "17"
      ]
     },
     "execution_count": 2,
     "metadata": {},
     "output_type": "execute_result"
    }
   ],
   "source": [
    "# this is an arithmetic expression to multiply and then add integers\n",
    "(3*4)+5"
   ]
  },
  {
   "cell_type": "code",
   "execution_count": 4,
   "id": "a2713741",
   "metadata": {},
   "outputs": [
    {
     "data": {
      "text/plain": [
       "3.3333333333333335"
      ]
     },
     "execution_count": 4,
     "metadata": {},
     "output_type": "execute_result"
    }
   ],
   "source": [
    "# This code will convert 200 minutes into hours by dividing by 60\n",
    "200/60"
   ]
  },
  {
   "cell_type": "markdown",
   "id": "705cd2e9",
   "metadata": {},
   "source": [
    "## Author\n",
    "Sonam Chorol"
   ]
  }
 ],
 "metadata": {
  "kernelspec": {
   "display_name": "Python 3 (ipykernel)",
   "language": "python",
   "name": "python3"
  },
  "language_info": {
   "codemirror_mode": {
    "name": "ipython",
    "version": 3
   },
   "file_extension": ".py",
   "mimetype": "text/x-python",
   "name": "python",
   "nbconvert_exporter": "python",
   "pygments_lexer": "ipython3",
   "version": "3.8.2"
  }
 },
 "nbformat": 4,
 "nbformat_minor": 5
}
